{
 "cells": [
  {
   "cell_type": "markdown",
   "metadata": {
    "id": "9bwefq0lCoAm"
   },
   "source": [
    "Projet kaggle : Tweet Sentiment Extraction\n",
    "\n",
    "Emma BEUZE, Nacim BOUIA, Antoine FRANCESCHI, Ayoub RHIM, Guillaume RUSSIAS"
   ]
  },
  {
   "cell_type": "code",
   "execution_count": null,
   "metadata": {},
   "outputs": [],
   "source": [
    "#???\n",
    "import jax\n",
    "import jax.numpy as jnp\n",
    "import gzip\n",
    "import pickle"
   ]
  },
  {
   "cell_type": "code",
   "execution_count": 1,
   "metadata": {
    "id": "9_E9JbvSyVsA"
   },
   "outputs": [],
   "source": [
    "import matplotlib.pyplot as plt\n",
    "import pandas as pd\n",
    "import numpy as np\n",
    "import os"
   ]
  },
  {
   "cell_type": "code",
   "execution_count": 2,
   "metadata": {},
   "outputs": [
    {
     "data": {
      "text/plain": [
       "'1.2.4'"
      ]
     },
     "execution_count": 2,
     "metadata": {},
     "output_type": "execute_result"
    }
   ],
   "source": [
    "#besoin d'une version > à 1.2.0\n",
    "pd.__version__"
   ]
  },
  {
   "cell_type": "markdown",
   "metadata": {
    "id": "POmOSgAlyr3g"
   },
   "source": [
    "Il y a 4 types de colonnes :\n",
    "\n",
    "\n",
    "*   textID - unique ID for each piece of text \n",
    "*   text - the text of the tweet \n",
    "*   sentiment - the general sentiment of the tweet        => il y a 3 sentiments : positive, neutral, negative\n",
    "*   selected_text - [train only] the text that supports the tweet's sentiment \n",
    "\n",
    "\n",
    "**OBJECTIF :  examiner le sentiment donné pour un tweet donné et déterminer le mot ou la phrase qui le soutient le mieux.**\n",
    "\n",
    "\n",
    "\n",
    "\n"
   ]
  },
  {
   "cell_type": "code",
   "execution_count": 3,
   "metadata": {},
   "outputs": [],
   "source": [
    "os.chdir( os.getcwd() + \"/donnees\" )"
   ]
  },
  {
   "cell_type": "markdown",
   "metadata": {
    "id": "EaJrv1vJDaHc"
   },
   "source": [
    "Page qui résume comment utiliser les pandas : https://ledatascientist.com/manipulez-vos-donnees-avec-pandas/"
   ]
  },
  {
   "cell_type": "code",
   "execution_count": 4,
   "metadata": {
    "colab": {
     "base_uri": "https://localhost:8080/"
    },
    "executionInfo": {
     "elapsed": 923,
     "status": "ok",
     "timestamp": 1620548950143,
     "user": {
      "displayName": "Emma Beuze",
      "photoUrl": "",
      "userId": "09800781218569276775"
     },
     "user_tz": -120
    },
    "id": "KTbbUb1a6o9a",
    "outputId": "253cfb92-053d-46ee-a2f0-a055dc252b3a"
   },
   "outputs": [
    {
     "name": "stdout",
     "output_type": "stream",
     "text": [
      "Exemple 1 : (' Sooo SAD I will miss you here in San Diego!!!', 'negative') extrait choisi : Sooo SAD\n",
      "Exemple 2 : (' what fun are you speaking of?', 'neutral') extrait choisi : what fun are you speaking of?\n",
      "Exemple 3 : (' Thanks! Welcome back!', 'positive') extrait choisi : Thanks! Welcome back!\n"
     ]
    }
   ],
   "source": [
    "# Load the dataset\n",
    "train_set = pd.read_csv(r\"train.csv\")\n",
    "test_set = pd.read_csv(r\"test.csv\")\n",
    "\n",
    "#print(train_set.shape)    => (27481, 4)  (textID, text, selected_text, sentiment )\n",
    "#print(test_set.shape)     => (3534, 3)   (textID, text, sentiment)\n",
    "\n",
    "train_data_text = train_set[\"text\"]\n",
    "train_data_sentiment = train_set[\"sentiment\"]\n",
    "\n",
    "N_train = train_data_text.shape[0]\n",
    "\n",
    "train_data = [(train_data_text[k],train_data_sentiment[k]) for k in range(N_train)]\n",
    "train_labels = train_set[\"selected_text\"]\n",
    "\n",
    "\n",
    "# check data makes sense\n",
    "\n",
    "print(\"Exemple 1 :\",train_data[1], \"extrait choisi :\", train_labels[1])\n",
    "print(\"Exemple 2 :\",train_data[59], \"extrait choisi :\", train_labels[59])\n",
    "print(\"Exemple 3 :\",train_data[750], \"extrait choisi :\", train_labels[750])"
   ]
  },
  {
   "cell_type": "markdown",
   "metadata": {
    "id": "BzlZSCICClcc"
   },
   "source": [
    "Dans le concours, la métrique à utiliser est le score de Jaccard : </br>\n",
    "https://en.wikipedia.org/wiki/Jaccard_index </br>\n",
    "https://towardsdatascience.com/overview-of-text-similarity-metrics-3397c4601f50.\n"
   ]
  },
  {
   "cell_type": "code",
   "execution_count": 5,
   "metadata": {
    "executionInfo": {
     "elapsed": 429,
     "status": "ok",
     "timestamp": 1620549450050,
     "user": {
      "displayName": "Nacim Bouia",
      "photoUrl": "",
      "userId": "06519965442448796013"
     },
     "user_tz": -120
    },
    "id": "66YRJWdYNDb2"
   },
   "outputs": [],
   "source": [
    "def jaccard(str1, str2): \n",
    "    try:\n",
    "        a = set(str1.lower().split()) \n",
    "        b = set(str2.lower().split())\n",
    "        c = a.intersection(b)\n",
    "        return float(len(c)) / (len(a) + len(b) - len(c))\n",
    "    except:\n",
    "        print(str1, str2)"
   ]
  },
  {
   "cell_type": "code",
   "execution_count": 6,
   "metadata": {},
   "outputs": [
    {
     "name": "stdout",
     "output_type": "stream",
     "text": [
      "0.2\n"
     ]
    },
    {
     "data": {
      "text/plain": [
       "'La métrique est'"
      ]
     },
     "execution_count": 6,
     "metadata": {},
     "output_type": "execute_result"
    }
   ],
   "source": [
    "def merge(L,i,j):\n",
    "    \"\"\"Creates sentences from lists of words.\"\"\"\n",
    "    acc = L[i]\n",
    "    for k in range(i+1,j):\n",
    "        acc = acc + \" \" + L[k]\n",
    "    return acc\n",
    "\n",
    "def extract_closest_substring(str1, str2):\n",
    "    \"\"\"Extracts from str1 closest substring to str2 with respect to Jaccard distance.\"\"\"\n",
    "    \"\"\" /!\\ Not optimal /!\\ \"\"\"\n",
    "    split1 = str1.split(\" \")\n",
    "    N = len(split1)\n",
    "    maxa = 0\n",
    "    stra = str1\n",
    "    for i in range(N):\n",
    "        for j in range(i, N+1):\n",
    "            acc = merge(split1,i,j)\n",
    "            jacc = jaccard(acc, str2)\n",
    "            if jacc >= maxa:\n",
    "                maxa = jacc\n",
    "                stra = acc\n",
    "    return stra\n",
    "\n",
    "str1 = \"Dans le concours, la métrique à utiliser est le score de Jaccard\"\n",
    "str2 = \"La métrique est l'étude des objets métriques\"\n",
    "\n",
    "print(jaccard(str1,str2))\n",
    "extract_closest_substring(str2, str1)"
   ]
  },
  {
   "cell_type": "markdown",
   "metadata": {
    "id": "BzlZSCICClcc"
   },
   "source": [
    "On définit une classe qui servira à la première approche de classifieur. L'objectif est de répliquer une méthode du plus proche voisin."
   ]
  },
  {
   "cell_type": "code",
   "execution_count": 7,
   "metadata": {},
   "outputs": [],
   "source": [
    "def row_jac(row):\n",
    "    return jaccard(row.text_x, row.text_y)\n",
    "\n",
    "def row_extr(row):\n",
    "    return extract_closest_substring(row.text_y, row.selected_text)"
   ]
  },
  {
   "cell_type": "code",
   "execution_count": 8,
   "metadata": {},
   "outputs": [],
   "source": [
    "class RetardedClassifier():\n",
    "    \"\"\"Use instances as functions to extract text.\"\"\"\n",
    "    def __init__(self, n = 2000):\n",
    "        self._train_plus = None\n",
    "        self._train_neg = None\n",
    "        self._depth = n\n",
    "    \n",
    "    def fit(self, train_set):\n",
    "        #positive train examples\n",
    "        self._train_plus = train_set[train_set.sentiment == \"positive\"]\n",
    "        #negative train examples\n",
    "        self._train_neg = train_set[train_set.sentiment == \"negative\"]\n",
    "    \n",
    "    def sign_run(self,test_frame,sign):\n",
    "        \"\"\"Does a branch run\"\"\"\n",
    "        if sign == \"neutral\":\n",
    "            #neutral tweets return tweet itself\n",
    "            aux = test_frame[test_frame.sentiment == sign]\n",
    "            aux[\"selected_text\"] = aux.text\n",
    "            return aux.loc[:,[\"textID\", \"text\", \"selected_text\", \"sentiment\"]]\n",
    "        \n",
    "        test_frame_plus = test_frame[test_frame.sentiment == sign]\n",
    "        \n",
    "        aux = self._train_plus.loc[0:self._depth,:].merge(test_frame_plus, how='cross')\n",
    "        \n",
    "        aux2 = aux\n",
    "        aux2[\"score\"] = aux.apply(row_jac, axis = 1) \n",
    "        \n",
    "        aux3 = aux2.sort_values('score', ascending=False).drop_duplicates(['text_y'])\n",
    "        \n",
    "        aux4 = aux3\n",
    "        aux4[\"new_extr\"] = aux3.apply(row_extr, axis=1)\n",
    "        aux4 = aux4.loc[:,[\"textID_y\",\"text_y\",\"new_extr\",\"sentiment_y\"]]\n",
    "        \n",
    "        aux5 = aux4.rename(columns = {\"textID_y\":\"textID\", \"text_y\":\"text\", \"new_extr\":\"selected_text\", \"sentiment_y\":\"sentiment\"})\n",
    "        \n",
    "        return aux5\n",
    "    \n",
    "    def __call__(self, test_frame):\n",
    "        \"\"\"Runs the actual calculation\"\"\"\n",
    "        acc_pos = self.sign_run(test_frame, \"positive\")\n",
    "        acc_neg = self.sign_run(test_frame, \"negative\")\n",
    "        acc_neu = self.sign_run(test_frame, \"neutral\")\n",
    "        \n",
    "        return pd.concat([acc_pos, acc_neg, acc_neu])"
   ]
  },
  {
   "cell_type": "code",
   "execution_count": 9,
   "metadata": {},
   "outputs": [
    {
     "name": "stderr",
     "output_type": "stream",
     "text": [
      "/opt/anaconda3/lib/python3.7/site-packages/ipykernel_launcher.py:19: SettingWithCopyWarning: \n",
      "A value is trying to be set on a copy of a slice from a DataFrame.\n",
      "Try using .loc[row_indexer,col_indexer] = value instead\n",
      "\n",
      "See the caveats in the documentation: https://pandas.pydata.org/pandas-docs/stable/user_guide/indexing.html#returning-a-view-versus-a-copy\n"
     ]
    },
    {
     "data": {
      "text/html": [
       "<div>\n",
       "<style scoped>\n",
       "    .dataframe tbody tr th:only-of-type {\n",
       "        vertical-align: middle;\n",
       "    }\n",
       "\n",
       "    .dataframe tbody tr th {\n",
       "        vertical-align: top;\n",
       "    }\n",
       "\n",
       "    .dataframe thead th {\n",
       "        text-align: right;\n",
       "    }\n",
       "</style>\n",
       "<table border=\"1\" class=\"dataframe\">\n",
       "  <thead>\n",
       "    <tr style=\"text-align: right;\">\n",
       "      <th></th>\n",
       "      <th>textID</th>\n",
       "      <th>text</th>\n",
       "      <th>selected_text</th>\n",
       "      <th>sentiment</th>\n",
       "    </tr>\n",
       "  </thead>\n",
       "  <tbody>\n",
       "    <tr>\n",
       "      <th>0</th>\n",
       "      <td>f87dea47db</td>\n",
       "      <td>Last session of the day  http://twitpic.com/67ezh</td>\n",
       "      <td>Last session of the day  http://twitpic.com/67ezh</td>\n",
       "      <td>neutral</td>\n",
       "    </tr>\n",
       "    <tr>\n",
       "      <th>8</th>\n",
       "      <td>e64208b4ef</td>\n",
       "      <td>and within a short time of the last clue all ...</td>\n",
       "      <td>and within a short time of the last clue all ...</td>\n",
       "      <td>neutral</td>\n",
       "    </tr>\n",
       "    <tr>\n",
       "      <th>9</th>\n",
       "      <td>37bcad24ca</td>\n",
       "      <td>What did you get?  My day is alright.. haven`...</td>\n",
       "      <td>What did you get?  My day is alright.. haven`...</td>\n",
       "      <td>neutral</td>\n",
       "    </tr>\n",
       "    <tr>\n",
       "      <th>11</th>\n",
       "      <td>43b390b336</td>\n",
       "      <td>I checked.  We didn`t win</td>\n",
       "      <td>I checked.  We didn`t win</td>\n",
       "      <td>neutral</td>\n",
       "    </tr>\n",
       "    <tr>\n",
       "      <th>12</th>\n",
       "      <td>69d6b5d93e</td>\n",
       "      <td>.. and you`re on twitter! Did the tavern bore...</td>\n",
       "      <td>.. and you`re on twitter! Did the tavern bore...</td>\n",
       "      <td>neutral</td>\n",
       "    </tr>\n",
       "    <tr>\n",
       "      <th>...</th>\n",
       "      <td>...</td>\n",
       "      <td>...</td>\n",
       "      <td>...</td>\n",
       "      <td>...</td>\n",
       "    </tr>\n",
       "    <tr>\n",
       "      <th>720266</th>\n",
       "      <td>cce5c4744a</td>\n",
       "      <td>Watching Body of Lies...good film</td>\n",
       "      <td>of</td>\n",
       "      <td>positive</td>\n",
       "    </tr>\n",
       "    <tr>\n",
       "      <th>720348</th>\n",
       "      <td>4a680661d5</td>\n",
       "      <td>congrats! Photo of dre?</td>\n",
       "      <td>of</td>\n",
       "      <td>positive</td>\n",
       "    </tr>\n",
       "    <tr>\n",
       "      <th>720432</th>\n",
       "      <td>4de0e1bb73</td>\n",
       "      <td>Perfect night. Best month of my life so far!! ...</td>\n",
       "      <td>Best month of</td>\n",
       "      <td>positive</td>\n",
       "    </tr>\n",
       "    <tr>\n",
       "      <th>720735</th>\n",
       "      <td>683149f529</td>\n",
       "      <td>well maybe someone will care</td>\n",
       "      <td>well</td>\n",
       "      <td>positive</td>\n",
       "    </tr>\n",
       "    <tr>\n",
       "      <th>722273</th>\n",
       "      <td>09a2245f93</td>\n",
       "      <td>YES!! REPRIEVE!! One paper pushed back until F...</td>\n",
       "      <td>One paper pushed back until Friday! That leave...</td>\n",
       "      <td>positive</td>\n",
       "    </tr>\n",
       "  </tbody>\n",
       "</table>\n",
       "<p>3534 rows × 4 columns</p>\n",
       "</div>"
      ],
      "text/plain": [
       "            textID                                               text  \\\n",
       "0       f87dea47db  Last session of the day  http://twitpic.com/67ezh   \n",
       "8       e64208b4ef   and within a short time of the last clue all ...   \n",
       "9       37bcad24ca   What did you get?  My day is alright.. haven`...   \n",
       "11      43b390b336                          I checked.  We didn`t win   \n",
       "12      69d6b5d93e   .. and you`re on twitter! Did the tavern bore...   \n",
       "...            ...                                                ...   \n",
       "720266  cce5c4744a                  Watching Body of Lies...good film   \n",
       "720348  4a680661d5                            congrats! Photo of dre?   \n",
       "720432  4de0e1bb73  Perfect night. Best month of my life so far!! ...   \n",
       "720735  683149f529                       well maybe someone will care   \n",
       "722273  09a2245f93  YES!! REPRIEVE!! One paper pushed back until F...   \n",
       "\n",
       "                                            selected_text sentiment  \n",
       "0       Last session of the day  http://twitpic.com/67ezh   neutral  \n",
       "8        and within a short time of the last clue all ...   neutral  \n",
       "9        What did you get?  My day is alright.. haven`...   neutral  \n",
       "11                              I checked.  We didn`t win   neutral  \n",
       "12       .. and you`re on twitter! Did the tavern bore...   neutral  \n",
       "...                                                   ...       ...  \n",
       "720266                                                 of  positive  \n",
       "720348                                                 of  positive  \n",
       "720432                                      Best month of  positive  \n",
       "720735                                               well  positive  \n",
       "722273  One paper pushed back until Friday! That leave...  positive  \n",
       "\n",
       "[3534 rows x 4 columns]"
      ]
     },
     "execution_count": 9,
     "metadata": {},
     "output_type": "execute_result"
    }
   ],
   "source": [
    "#Examples\n",
    "R = RetardedClassifier()\n",
    "R.fit(train_set)\n",
    "KK = R(test_set)\n",
    "KK = KK.sort_index()\n",
    "KK"
   ]
  },
  {
   "cell_type": "code",
   "execution_count": 10,
   "metadata": {},
   "outputs": [
    {
     "data": {
      "text/html": [
       "<div>\n",
       "<style scoped>\n",
       "    .dataframe tbody tr th:only-of-type {\n",
       "        vertical-align: middle;\n",
       "    }\n",
       "\n",
       "    .dataframe tbody tr th {\n",
       "        vertical-align: top;\n",
       "    }\n",
       "\n",
       "    .dataframe thead th {\n",
       "        text-align: right;\n",
       "    }\n",
       "</style>\n",
       "<table border=\"1\" class=\"dataframe\">\n",
       "  <thead>\n",
       "    <tr style=\"text-align: right;\">\n",
       "      <th></th>\n",
       "      <th>textID</th>\n",
       "      <th>text</th>\n",
       "      <th>selected_text</th>\n",
       "      <th>sentiment</th>\n",
       "    </tr>\n",
       "  </thead>\n",
       "  <tbody>\n",
       "    <tr>\n",
       "      <th>311267</th>\n",
       "      <td>000b3211af</td>\n",
       "      <td>And ... Happy Mother`s Day to all Moms   You s...</td>\n",
       "      <td>Happy</td>\n",
       "      <td>positive</td>\n",
       "    </tr>\n",
       "    <tr>\n",
       "      <th>363</th>\n",
       "      <td>000ceaec55</td>\n",
       "      <td>me too.</td>\n",
       "      <td>me too.</td>\n",
       "      <td>neutral</td>\n",
       "    </tr>\n",
       "    <tr>\n",
       "      <th>452892</th>\n",
       "      <td>0010bcc0e2</td>\n",
       "      <td>watching a film, recovering from my operation</td>\n",
       "      <td>operation</td>\n",
       "      <td>positive</td>\n",
       "    </tr>\n",
       "    <tr>\n",
       "      <th>128</th>\n",
       "      <td>001617fca4</td>\n",
       "      <td>oh my god!!! i cried so much!!! watch this guy...</td>\n",
       "      <td>oh my god!!! i cried so much!!! watch this guy...</td>\n",
       "      <td>neutral</td>\n",
       "    </tr>\n",
       "    <tr>\n",
       "      <th>1816</th>\n",
       "      <td>001e4be1ab</td>\n",
       "      <td>Rachel is going to have lunch at baixa. And ha...</td>\n",
       "      <td>Rachel is going to have lunch at baixa. And ha...</td>\n",
       "      <td>neutral</td>\n",
       "    </tr>\n",
       "  </tbody>\n",
       "</table>\n",
       "</div>"
      ],
      "text/plain": [
       "            textID                                               text  \\\n",
       "311267  000b3211af  And ... Happy Mother`s Day to all Moms   You s...   \n",
       "363     000ceaec55                                            me too.   \n",
       "452892  0010bcc0e2      watching a film, recovering from my operation   \n",
       "128     001617fca4  oh my god!!! i cried so much!!! watch this guy...   \n",
       "1816    001e4be1ab  Rachel is going to have lunch at baixa. And ha...   \n",
       "\n",
       "                                            selected_text sentiment  \n",
       "311267                                              Happy  positive  \n",
       "363                                               me too.   neutral  \n",
       "452892                                          operation  positive  \n",
       "128     oh my god!!! i cried so much!!! watch this guy...   neutral  \n",
       "1816    Rachel is going to have lunch at baixa. And ha...   neutral  "
      ]
     },
     "execution_count": 10,
     "metadata": {},
     "output_type": "execute_result"
    }
   ],
   "source": [
    "KK.sort_values(\"textID\").head()"
   ]
  },
  {
   "cell_type": "code",
   "execution_count": 11,
   "metadata": {
    "scrolled": true
   },
   "outputs": [
    {
     "data": {
      "text/html": [
       "<div>\n",
       "<style scoped>\n",
       "    .dataframe tbody tr th:only-of-type {\n",
       "        vertical-align: middle;\n",
       "    }\n",
       "\n",
       "    .dataframe tbody tr th {\n",
       "        vertical-align: top;\n",
       "    }\n",
       "\n",
       "    .dataframe thead th {\n",
       "        text-align: right;\n",
       "    }\n",
       "</style>\n",
       "<table border=\"1\" class=\"dataframe\">\n",
       "  <thead>\n",
       "    <tr style=\"text-align: right;\">\n",
       "      <th></th>\n",
       "      <th>textID</th>\n",
       "      <th>text</th>\n",
       "      <th>sentiment</th>\n",
       "    </tr>\n",
       "  </thead>\n",
       "  <tbody>\n",
       "    <tr>\n",
       "      <th>670</th>\n",
       "      <td>000b3211af</td>\n",
       "      <td>And ... Happy Mother`s Day to all Moms   You s...</td>\n",
       "      <td>positive</td>\n",
       "    </tr>\n",
       "    <tr>\n",
       "      <th>363</th>\n",
       "      <td>000ceaec55</td>\n",
       "      <td>me too.</td>\n",
       "      <td>neutral</td>\n",
       "    </tr>\n",
       "    <tr>\n",
       "      <th>2135</th>\n",
       "      <td>0010bcc0e2</td>\n",
       "      <td>watching a film, recovering from my operation</td>\n",
       "      <td>positive</td>\n",
       "    </tr>\n",
       "    <tr>\n",
       "      <th>128</th>\n",
       "      <td>001617fca4</td>\n",
       "      <td>oh my god!!! i cried so much!!! watch this guy...</td>\n",
       "      <td>neutral</td>\n",
       "    </tr>\n",
       "    <tr>\n",
       "      <th>1816</th>\n",
       "      <td>001e4be1ab</td>\n",
       "      <td>Rachel is going to have lunch at baixa. And ha...</td>\n",
       "      <td>neutral</td>\n",
       "    </tr>\n",
       "  </tbody>\n",
       "</table>\n",
       "</div>"
      ],
      "text/plain": [
       "          textID                                               text sentiment\n",
       "670   000b3211af  And ... Happy Mother`s Day to all Moms   You s...  positive\n",
       "363   000ceaec55                                            me too.   neutral\n",
       "2135  0010bcc0e2      watching a film, recovering from my operation  positive\n",
       "128   001617fca4  oh my god!!! i cried so much!!! watch this guy...   neutral\n",
       "1816  001e4be1ab  Rachel is going to have lunch at baixa. And ha...   neutral"
      ]
     },
     "execution_count": 11,
     "metadata": {},
     "output_type": "execute_result"
    }
   ],
   "source": [
    "test_set.sort_values(\"textID\").head()"
   ]
  },
  {
   "cell_type": "markdown",
   "metadata": {
    "id": "BzlZSCICClcc"
   },
   "source": [
    "On pourrait essayer de faire de l'analyse sémantique ? Peut-être voir s'il y a des mots très récurrents chez les tweets positifs par exemple."
   ]
  },
  {
   "cell_type": "code",
   "execution_count": 12,
   "metadata": {},
   "outputs": [],
   "source": [
    "def parser(string):\n",
    "    try:\n",
    "        return string.split(\" \")\n",
    "    except:\n",
    "        pass\n",
    "\n",
    "axx = train_set\n",
    "axx[\"words\"] = train_set.selected_text.map(parser)\n",
    "\n",
    "axx1 = list(axx.words)"
   ]
  },
  {
   "cell_type": "code",
   "execution_count": 13,
   "metadata": {},
   "outputs": [
    {
     "name": "stderr",
     "output_type": "stream",
     "text": [
      "100% |########################################################################|\n"
     ]
    }
   ],
   "source": [
    "import progressbar as pb\n",
    "\n",
    "pbar = pb.ProgressBar()\n",
    "\n",
    "def flatten(list_of_lists):\n",
    "    flat_list = []\n",
    "    for list in pbar(list_of_lists):\n",
    "        try:\n",
    "            flat_list = flat_list + list\n",
    "        except TypeError:\n",
    "            pass\n",
    "    return flat_list\n",
    "\n",
    "axx2 = flatten(axx1)"
   ]
  },
  {
   "cell_type": "code",
   "execution_count": 14,
   "metadata": {},
   "outputs": [
    {
     "data": {
      "text/plain": [
       "to     5190\n",
       "I      4842\n",
       "the    4303\n",
       "a      3427\n",
       "my     2503\n",
       "dtype: int64"
      ]
     },
     "execution_count": 14,
     "metadata": {},
     "output_type": "execute_result"
    }
   ],
   "source": [
    "#Most common words and their number of occurences\n",
    "hist = pd.Series(axx2).value_counts()\n",
    "hist[1:100].head()"
   ]
  },
  {
   "cell_type": "code",
   "execution_count": 15,
   "metadata": {},
   "outputs": [
    {
     "data": {
      "text/plain": [
       "<matplotlib.axes._subplots.AxesSubplot at 0x7fa25fa65450>"
      ]
     },
     "execution_count": 15,
     "metadata": {},
     "output_type": "execute_result"
    },
    {
     "data": {
      "image/png": "[encoded data removed]",
      "text/plain": [
       "<Figure size 432x288 with 1 Axes>"
      ]
     },
     "metadata": {
      "needs_background": "light"
     },
     "output_type": "display_data"
    }
   ],
   "source": [
    "#Histogram plot\n",
    "hist[25:40].plot(kind = \"bar\")"
   ]
  }
 ],
 "metadata": {
  "colab": {
   "collapsed_sections": [],
   "name": "projet.ipynb",
   "provenance": []
  },
  "kernelspec": {
   "display_name": "Python 3",
   "language": "python",
   "name": "python3"
  },
  "language_info": {
   "codemirror_mode": {
    "name": "ipython",
    "version": 3
   },
   "file_extension": ".py",
   "mimetype": "text/x-python",
   "name": "python",
   "nbconvert_exporter": "python",
   "pygments_lexer": "ipython3",
   "version": "3.7.4"
  }
 },
 "nbformat": 4,
 "nbformat_minor": 1
}
