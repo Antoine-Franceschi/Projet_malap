{
 "cells": [
  {
   "cell_type": "markdown",
   "metadata": {
    "id": "9bwefq0lCoAm"
   },
   "source": [
    "Projet kaggle : Tweet Sentiment Extraction\n",
    "\n",
    "Emma BEUZE, Nacim BOUIA, Antoine FRANCESCHI, Ayoub RHIM, Guillaume RUSSIAS"
   ]
  },
  {
   "cell_type": "code",
   "execution_count": 1,
   "metadata": {
    "id": "9_E9JbvSyVsA"
   },
   "outputs": [],
   "source": [
    "import matplotlib.pyplot as plt\n",
    "import pandas\n",
    "import os "
   ]
  },
  {
   "cell_type": "markdown",
   "metadata": {
    "id": "POmOSgAlyr3g"
   },
   "source": [
    "Il y a 4 types de colonnes :\n",
    "\n",
    "\n",
    "*   textID - unique ID for each piece of text \n",
    "*   text - the text of the tweet \n",
    "*   sentiment - the general sentiment of the tweet        => il y a 3 sentiments : positive, neutral, negative\n",
    "*   selected_text - (train only) the text that supports the tweet's sentiment \n",
    "\n",
    "\n",
    "**OBJECTIF :  examiner le sentiment donné pour un tweet donné et déterminer le mot ou la phrase qui le soutient le mieux.**\n",
    "\n",
    "\n",
    "\n",
    "\n"
   ]
  },
  {
   "cell_type": "markdown",
   "metadata": {},
   "source": [
    "Page qui résume comment utiliser les pandas : https://ledatascientist.com/manipulez-vos-donnees-avec-pandas/"
   ]
  },
  {
   "cell_type": "code",
   "execution_count": 6,
   "metadata": {},
   "outputs": [],
   "source": [
    "os.chdir(str(os.getcwd()+\"\\donnees\"))"
   ]
  },
  {
   "cell_type": "code",
   "execution_count": 7,
   "metadata": {
    "colab": {
     "base_uri": "https://localhost:8080/"
    },
    "executionInfo": {
     "elapsed": 923,
     "status": "ok",
     "timestamp": 1620548950143,
     "user": {
      "displayName": "Emma Beuze",
      "photoUrl": "",
      "userId": "09800781218569276775"
     },
     "user_tz": -120
    },
    "id": "KTbbUb1a6o9a",
    "outputId": "253cfb92-053d-46ee-a2f0-a055dc252b3a"
   },
   "outputs": [
    {
     "name": "stdout",
     "output_type": "stream",
     "text": [
      "Exemple 1 : (' Sooo SAD I will miss you here in San Diego!!!', 'negative') extrait choisi : Sooo SAD\n",
      "Exemple 2 : (' what fun are you speaking of?', 'neutral') extrait choisi : what fun are you speaking of?\n",
      "Exemple 3 : (' Thanks! Welcome back!', 'positive') extrait choisi : Thanks! Welcome back!\n"
     ]
    }
   ],
   "source": [
    "# Load the dataset\n",
    "#train_set = pandas.read_csv(r\"train.csv\")\n",
    "\n",
    "train_set = pandas.read_csv(r\"train.csv\")\n",
    "test_set = pandas.read_csv(r\"test.csv\")\n",
    "\n",
    "#print(train_set.shape)    => (27481, 4)  (textID, text, selected_text, sentiment )\n",
    "#print(test_set.shape)     => (3534, 3)   (textID, text, sentiment)\n",
    "\n",
    "train_data_text = train_set[\"text\"]\n",
    "train_data_sentiment = train_set[\"sentiment\"]\n",
    "\n",
    "N_train = train_data_text.shape[0]\n",
    "\n",
    "train_data = [(train_data_text[k],train_data_sentiment[k]) for k in range(N_train)]\n",
    "train_labels = train_set[\"selected_text\"]\n",
    "\n",
    "\n",
    "# check data makes sense\n",
    "\n",
    "print(\"Exemple 1 :\",train_data[1], \"extrait choisi :\", train_labels[1])\n",
    "print(\"Exemple 2 :\",train_data[59], \"extrait choisi :\", train_labels[59])\n",
    "print(\"Exemple 3 :\",train_data[750], \"extrait choisi :\", train_labels[750])"
   ]
  },
  {
   "cell_type": "code",
   "execution_count": 8,
   "metadata": {},
   "outputs": [
    {
     "data": {
      "text/html": [
       "<div>\n",
       "<style scoped>\n",
       "    .dataframe tbody tr th:only-of-type {\n",
       "        vertical-align: middle;\n",
       "    }\n",
       "\n",
       "    .dataframe tbody tr th {\n",
       "        vertical-align: top;\n",
       "    }\n",
       "\n",
       "    .dataframe thead th {\n",
       "        text-align: right;\n",
       "    }\n",
       "</style>\n",
       "<table border=\"1\" class=\"dataframe\">\n",
       "  <thead>\n",
       "    <tr style=\"text-align: right;\">\n",
       "      <th></th>\n",
       "      <th>textID</th>\n",
       "      <th>text</th>\n",
       "      <th>selected_text</th>\n",
       "      <th>sentiment</th>\n",
       "    </tr>\n",
       "  </thead>\n",
       "  <tbody>\n",
       "    <tr>\n",
       "      <th>0</th>\n",
       "      <td>cb774db0d1</td>\n",
       "      <td>I`d have responded, if I were going</td>\n",
       "      <td>I`d have responded, if I were going</td>\n",
       "      <td>neutral</td>\n",
       "    </tr>\n",
       "    <tr>\n",
       "      <th>1</th>\n",
       "      <td>549e992a42</td>\n",
       "      <td>Sooo SAD I will miss you here in San Diego!!!</td>\n",
       "      <td>Sooo SAD</td>\n",
       "      <td>negative</td>\n",
       "    </tr>\n",
       "    <tr>\n",
       "      <th>2</th>\n",
       "      <td>088c60f138</td>\n",
       "      <td>my boss is bullying me...</td>\n",
       "      <td>bullying me</td>\n",
       "      <td>negative</td>\n",
       "    </tr>\n",
       "    <tr>\n",
       "      <th>3</th>\n",
       "      <td>9642c003ef</td>\n",
       "      <td>what interview! leave me alone</td>\n",
       "      <td>leave me alone</td>\n",
       "      <td>negative</td>\n",
       "    </tr>\n",
       "    <tr>\n",
       "      <th>4</th>\n",
       "      <td>358bd9e861</td>\n",
       "      <td>Sons of ****, why couldn`t they put them on t...</td>\n",
       "      <td>Sons of ****,</td>\n",
       "      <td>negative</td>\n",
       "    </tr>\n",
       "    <tr>\n",
       "      <th>...</th>\n",
       "      <td>...</td>\n",
       "      <td>...</td>\n",
       "      <td>...</td>\n",
       "      <td>...</td>\n",
       "    </tr>\n",
       "    <tr>\n",
       "      <th>27476</th>\n",
       "      <td>4eac33d1c0</td>\n",
       "      <td>wish we could come see u on Denver  husband l...</td>\n",
       "      <td>d lost</td>\n",
       "      <td>negative</td>\n",
       "    </tr>\n",
       "    <tr>\n",
       "      <th>27477</th>\n",
       "      <td>4f4c4fc327</td>\n",
       "      <td>I`ve wondered about rake to.  The client has ...</td>\n",
       "      <td>, don`t force</td>\n",
       "      <td>negative</td>\n",
       "    </tr>\n",
       "    <tr>\n",
       "      <th>27478</th>\n",
       "      <td>f67aae2310</td>\n",
       "      <td>Yay good for both of you. Enjoy the break - y...</td>\n",
       "      <td>Yay good for both of you.</td>\n",
       "      <td>positive</td>\n",
       "    </tr>\n",
       "    <tr>\n",
       "      <th>27479</th>\n",
       "      <td>ed167662a5</td>\n",
       "      <td>But it was worth it  ****.</td>\n",
       "      <td>But it was worth it  ****.</td>\n",
       "      <td>positive</td>\n",
       "    </tr>\n",
       "    <tr>\n",
       "      <th>27480</th>\n",
       "      <td>6f7127d9d7</td>\n",
       "      <td>All this flirting going on - The ATG smiles...</td>\n",
       "      <td>All this flirting going on - The ATG smiles. Y...</td>\n",
       "      <td>neutral</td>\n",
       "    </tr>\n",
       "  </tbody>\n",
       "</table>\n",
       "<p>27481 rows × 4 columns</p>\n",
       "</div>"
      ],
      "text/plain": [
       "           textID                                               text  \\\n",
       "0      cb774db0d1                I`d have responded, if I were going   \n",
       "1      549e992a42      Sooo SAD I will miss you here in San Diego!!!   \n",
       "2      088c60f138                          my boss is bullying me...   \n",
       "3      9642c003ef                     what interview! leave me alone   \n",
       "4      358bd9e861   Sons of ****, why couldn`t they put them on t...   \n",
       "...           ...                                                ...   \n",
       "27476  4eac33d1c0   wish we could come see u on Denver  husband l...   \n",
       "27477  4f4c4fc327   I`ve wondered about rake to.  The client has ...   \n",
       "27478  f67aae2310   Yay good for both of you. Enjoy the break - y...   \n",
       "27479  ed167662a5                         But it was worth it  ****.   \n",
       "27480  6f7127d9d7     All this flirting going on - The ATG smiles...   \n",
       "\n",
       "                                           selected_text sentiment  \n",
       "0                    I`d have responded, if I were going   neutral  \n",
       "1                                               Sooo SAD  negative  \n",
       "2                                            bullying me  negative  \n",
       "3                                         leave me alone  negative  \n",
       "4                                          Sons of ****,  negative  \n",
       "...                                                  ...       ...  \n",
       "27476                                             d lost  negative  \n",
       "27477                                      , don`t force  negative  \n",
       "27478                          Yay good for both of you.  positive  \n",
       "27479                         But it was worth it  ****.  positive  \n",
       "27480  All this flirting going on - The ATG smiles. Y...   neutral  \n",
       "\n",
       "[27481 rows x 4 columns]"
      ]
     },
     "execution_count": 8,
     "metadata": {},
     "output_type": "execute_result"
    }
   ],
   "source": [
    "train_set"
   ]
  },
  {
   "source": [
    "Dans le concours, la métrique à utiliser est le score de Jaccard :\n",
    "\n",
    "https://en.wikipedia.org/wiki/Jaccard_index \n",
    "\n",
    "https://towardsdatascience.com/overview-of-text-similarity-metrics-3397c4601f50.\n",
    "\n"
   ],
   "cell_type": "markdown",
   "metadata": {
    "id": "15wJ57_ZRj39"
   }
  },
  {
   "cell_type": "markdown",
   "metadata": {},
   "source": [
    "Dans un premier, voici la méthode que nous utilisons :\n",
    "* On crée trois tableaux T+, T-, T~ qui contiennent les text et selected_text qui ont un sentiment respectivement positifs, négatifs et neutres.\n",
    "* On s'inspire de la méthode kNN : pour un texte donné, on regarde quel est son sentiment. Ensuite on trouve quels sont ses k plus proches voisins dans le tableau T associé, en utilisant la mesure de Jaccard.\n",
    "* Parmi ces textes voisins, on regarde mot à mot quels sont les mots avec la plus grande distance de Jaccard, et on choisit de sélectionner ces mots"
   ]
  },
  {
   "cell_type": "code",
   "execution_count": 5,
   "metadata": {
    "executionInfo": {
     "elapsed": 429,
     "status": "ok",
     "timestamp": 1620549450050,
     "user": {
      "displayName": "Nacim Bouia",
      "photoUrl": "",
      "userId": "06519965442448796013"
     },
     "user_tz": -120
    },
    "id": "66YRJWdYNDb2"
   },
   "outputs": [],
   "source": [
    "def jaccard(str1, str2): \n",
    "    a = set(str1.lower().split()) \n",
    "    b = set(str2.lower().split())\n",
    "    c = a.intersection(b)\n",
    "    return float(len(c)) / (len(a) + len(b) - len(c))"
   ]
  },
  {
   "cell_type": "code",
   "execution_count": 8,
   "metadata": {
    "colab": {
     "base_uri": "https://localhost:8080/"
    },
    "executionInfo": {
     "elapsed": 417,
     "status": "ok",
     "timestamp": 1620549472776,
     "user": {
      "displayName": "Nacim Bouia",
      "photoUrl": "",
      "userId": "06519965442448796013"
     },
     "user_tz": -120
    },
    "id": "u5Wj0-e0PWaE",
    "outputId": "e1fde3cb-0081-4cce-eaf8-b61d6fe36fb8"
   },
   "outputs": [
    {
     "data": {
      "text/plain": [
       "1.0"
      ]
     },
     "execution_count": 8,
     "metadata": {},
     "output_type": "execute_result"
    }
   ],
   "source": [
    "str1 = \"je m'appelle Emma blablabla\"\n",
    "str2 = \"je m'appelle Emma blablabla\"\n",
    "jaccard(str1,str2)"
   ]
  },
  {
   "cell_type": "code",
   "execution_count": null,
   "metadata": {},
   "outputs": [],
   "source": []
  }
 ],
 "metadata": {
  "colab": {
   "collapsed_sections": [],
   "name": "projet.ipynb",
   "provenance": []
  },
  "kernelspec": {
   "name": "python385jvsc74a57bd0a975989e0a4e7a6fd7c4afb86c36a1c085691d56858ade4308fb0a022e92f8fa",
   "display_name": "Python 3.8.5 64-bit ('base': conda)"
  },
  "language_info": {
   "name": "python",
   "version": "3.8.5"
  }
 },
 "nbformat": 4,
 "nbformat_minor": 1
}