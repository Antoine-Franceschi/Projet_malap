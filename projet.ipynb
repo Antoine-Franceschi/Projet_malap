{
 "cells": [
  {
   "cell_type": "markdown",
   "metadata": {
    "id": "9bwefq0lCoAm"
   },
   "source": [
    "Projet kaggle : Tweet Sentiment Extraction\n",
    "\n",
    "Emma BEUZE, Nacim BOUIA, Antoine FRANCESCHI, Ayoub RHIM, Guillaume RUSSIAS"
   ]
  },
  {
   "cell_type": "code",
   "execution_count": null,
   "metadata": {},
   "outputs": [],
   "source": [
    "#???\n",
    "import jax\n",
    "import jax.numpy as jnp\n",
    "import gzip\n",
    "import pickle"
   ]
  },
  {
   "cell_type": "code",
   "execution_count": null,
   "metadata": {
    "id": "9_E9JbvSyVsA"
   },
   "outputs": [],
   "source": [
    "import matplotlib.pyplot as plt\n",
    "import pandas as pd\n",
    "import os"
   ]
  },
  {
   "cell_type": "code",
   "execution_count": null,
   "metadata": {},
   "outputs": [],
   "source": [
    "#besoin d'une version > à 1.2.0\n",
    "pd.__version__"
   ]
  },
  {
   "cell_type": "markdown",
   "metadata": {
    "id": "POmOSgAlyr3g"
   },
   "source": [
    "Il y a 4 types de colonnes :\n",
    "\n",
    "\n",
    "*   textID - unique ID for each piece of text \n",
    "*   text - the text of the tweet \n",
    "*   sentiment - the general sentiment of the tweet        => il y a 3 sentiments : positive, neutral, negative\n",
    "*   selected_text - [train only] the text that supports the tweet's sentiment \n",
    "\n",
    "\n",
    "**OBJECTIF :  examiner le sentiment donné pour un tweet donné et déterminer le mot ou la phrase qui le soutient le mieux.**\n",
    "\n",
    "\n",
    "\n",
    "\n"
   ]
  },
  {
   "cell_type": "code",
   "execution_count": null,
   "metadata": {},
   "outputs": [],
   "source": [
    "os.chdir( os.getcwd() + \"/donnees\" )"
   ]
  },
  {
   "cell_type": "markdown",
   "metadata": {
    "id": "EaJrv1vJDaHc"
   },
   "source": [
    "Page qui résume comment utiliser les pandas : https://ledatascientist.com/manipulez-vos-donnees-avec-pandas/"
   ]
  },
  {
   "cell_type": "code",
   "execution_count": null,
   "metadata": {
    "colab": {
     "base_uri": "https://localhost:8080/"
    },
    "executionInfo": {
     "elapsed": 923,
     "status": "ok",
     "timestamp": 1620548950143,
     "user": {
      "displayName": "Emma Beuze",
      "photoUrl": "",
      "userId": "09800781218569276775"
     },
     "user_tz": -120
    },
    "id": "KTbbUb1a6o9a",
    "outputId": "253cfb92-053d-46ee-a2f0-a055dc252b3a"
   },
   "outputs": [],
   "source": [
    "# Load the dataset\n",
    "train_set = pd.read_csv(r\"train.csv\")\n",
    "test_set = pd.read_csv(r\"test.csv\")\n",
    "\n",
    "#print(train_set.shape)    => (27481, 4)  (textID, text, selected_text, sentiment )\n",
    "#print(test_set.shape)     => (3534, 3)   (textID, text, sentiment)\n",
    "\n",
    "train_data_text = train_set[\"text\"]\n",
    "train_data_sentiment = train_set[\"sentiment\"]\n",
    "\n",
    "N_train = train_data_text.shape[0]\n",
    "\n",
    "train_data = [(train_data_text[k],train_data_sentiment[k]) for k in range(N_train)]\n",
    "train_labels = train_set[\"selected_text\"]\n",
    "\n",
    "\n",
    "# check data makes sense\n",
    "\n",
    "print(\"Exemple 1 :\",train_data[1], \"extrait choisi :\", train_labels[1])\n",
    "print(\"Exemple 2 :\",train_data[59], \"extrait choisi :\", train_labels[59])\n",
    "print(\"Exemple 3 :\",train_data[750], \"extrait choisi :\", train_labels[750])"
   ]
  },
  {
   "cell_type": "markdown",
   "metadata": {
    "id": "BzlZSCICClcc"
   },
   "source": [
    "Dans le concours, la métrique à utiliser est le score de Jaccard : </br>\n",
    "https://en.wikipedia.org/wiki/Jaccard_index </br>\n",
    "https://towardsdatascience.com/overview-of-text-similarity-metrics-3397c4601f50.\n"
   ]
  },
  {
   "cell_type": "code",
   "execution_count": null,
   "metadata": {
    "executionInfo": {
     "elapsed": 429,
     "status": "ok",
     "timestamp": 1620549450050,
     "user": {
      "displayName": "Nacim Bouia",
      "photoUrl": "",
      "userId": "06519965442448796013"
     },
     "user_tz": -120
    },
    "id": "66YRJWdYNDb2"
   },
   "outputs": [],
   "source": [
    "def jaccard(str1, str2): \n",
    "    try:\n",
    "        a = set(str1.lower().split()) \n",
    "        b = set(str2.lower().split())\n",
    "        c = a.intersection(b)\n",
    "        return float(len(c)) / (len(a) + len(b) - len(c))\n",
    "    except:\n",
    "        print(str1, str2)"
   ]
  },
  {
   "cell_type": "code",
   "execution_count": null,
   "metadata": {},
   "outputs": [],
   "source": [
    "for x in range(4,0,-1):\n",
    "    print(x)"
   ]
  },
  {
   "cell_type": "code",
   "execution_count": null,
   "metadata": {},
   "outputs": [],
   "source": [
    "def merge(L,i,j):\n",
    "    acc = L[i]\n",
    "    for k in range(i+1,j):\n",
    "        acc = acc + \" \" + L[k]\n",
    "    return acc\n",
    "\n",
    "def extract_closest_substring(str1, str2):\n",
    "    \"\"\" /!\\ Pas opti du tout /!\\ \"\"\"\n",
    "    split1 = str1.split(\" \")\n",
    "    N = len(split1)\n",
    "    maxa = 0\n",
    "    stra = str1\n",
    "    for i in range(N):\n",
    "        for j in range(i, N+1):\n",
    "            acc = merge(split1,i,j)\n",
    "            jacc = jaccard(acc, str2)\n",
    "            if jacc >= maxa:\n",
    "                maxa = jacc\n",
    "                stra = acc\n",
    "    return stra\n",
    "\n",
    "str1 = \"Dans le concours, la métrique à utiliser est le score de Jaccard\"\n",
    "str2 = \"Apprenez à utiliser le score de Jaccard au lien suivant\"\n",
    "\n",
    "print(jaccard(str1,str2))\n",
    "extract_closest_substring(str1, str2)"
   ]
  },
  {
   "cell_type": "markdown",
   "metadata": {
    "id": "BzlZSCICClcc"
   },
   "source": [
    "On définit une classe qui servira à la première approche de classifieur. L'objectif est de répliquer une méthode du plus proche voisin."
   ]
  },
  {
   "cell_type": "code",
   "execution_count": null,
   "metadata": {},
   "outputs": [],
   "source": [
    "def row_jac(row):\n",
    "    return jaccard(row.text_x, row.text_y)\n",
    "\n",
    "def row_extr(row):\n",
    "    return extract_closest_substring(row.text_y, row.selected_text)"
   ]
  },
  {
   "cell_type": "code",
   "execution_count": null,
   "metadata": {},
   "outputs": [],
   "source": [
    "class RetardedClassifier():\n",
    "    def __init__(self, n = 2000):\n",
    "        self._train_plus = None\n",
    "        self._train_neg = None\n",
    "        self._depth = n\n",
    "    \n",
    "    def fit(self, train_set):\n",
    "        #positive train examples\n",
    "        self._train_plus = train_set[train_set.sentiment == \"positive\"]\n",
    "        #negative train examples\n",
    "        self._train_neg = train_set[train_set.sentiment == \"negative\"]\n",
    "    \n",
    "    def sign_run(self,test_frame,sign):\n",
    "        \"\"\" Does a branch run \"\"\"\n",
    "        if sign == \"neutral\":\n",
    "            aux = test_frame[test_frame.sentiment == sign]\n",
    "            aux[\"selected_text\"] = aux.text\n",
    "            return aux[[\"textID\", \"text\", \"selected_text\", \"sentiment\"]]\n",
    "        \n",
    "        test_frame_plus = test_frame[test_frame.sentiment == sign]\n",
    "        \n",
    "        aux = self._train_plus.loc[0:self._depth,:].merge(test_frame_plus, how='cross')\n",
    "        \n",
    "        aux2 = aux\n",
    "        aux2[\"score\"] = aux.apply(row_jac, axis = 1) \n",
    "        \n",
    "        aux3 = aux2.sort_values('score', ascending=False).drop_duplicates(['text_y'])\n",
    "        \n",
    "        aux4 = aux3\n",
    "        aux4[\"new_extr\"] = aux3.apply(row_extr, axis=1)\n",
    "        aux4 = aux4.loc[:,[\"textID_y\",\"text_y\",\"new_extr\",\"sentiment_y\"]]\n",
    "        \n",
    "        aux5 = aux4.rename(columns = {\"textID_y\":\"textID\", \"text_y\":\"text\", \"new_extr\":\"selected_text\", \"sentiment_y\":\"sentiment\"})\n",
    "        \n",
    "        return aux5\n",
    "    \n",
    "    def __call__(self, test_frame):\n",
    "        #positive run\n",
    "        acc_pos = self.sign_run(test_frame, \"positive\")\n",
    "        acc_neg = self.sign_run(test_frame, \"negative\")\n",
    "        acc_neu = self.sign_run(test_frame, \"neutral\")\n",
    "        \n",
    "        return pd.concat([acc_pos, acc_neg, acc_neu])\n",
    "        "
   ]
  },
  {
   "cell_type": "code",
   "execution_count": null,
   "metadata": {},
   "outputs": [],
   "source": [
    "R = RetardedClassifier(500)\n",
    "R.fit(train_set)\n",
    "KK = R(test_set)\n",
    "KK = KK.sort_index()\n",
    "KK"
   ]
  }
 ],
 "metadata": {
  "colab": {
   "collapsed_sections": [],
   "name": "projet.ipynb",
   "provenance": []
  },
  "kernelspec": {
   "display_name": "Python 3",
   "language": "python",
   "name": "python3"
  },
  "language_info": {
   "codemirror_mode": {
    "name": "ipython",
    "version": 3
   },
   "file_extension": ".py",
   "mimetype": "text/x-python",
   "name": "python",
   "nbconvert_exporter": "python",
   "pygments_lexer": "ipython3",
   "version": "3.7.4"
  }
 },
 "nbformat": 4,
 "nbformat_minor": 1
}
